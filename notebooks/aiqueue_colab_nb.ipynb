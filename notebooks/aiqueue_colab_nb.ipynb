{
  "cells": [
    {
      "cell_type": "markdown",
      "metadata": {},
      "source": [
        "# AIQueue – Starter Colab Notebook\n",
        "\n",
        "This notebook sets up your environment for the AIQueue repo, loads secrets from Colab, checks for GPU, and runs the setup script to download models.\n",
        "\n",
        "**Steps:**\n",
        "1. (Optional) Mount Google Drive for persistent storage\n",
        "2. Check GPU/CPU status\n",
        "3. Clone the repo `SorretAI/aiqueue`\n",
        "4. Install dependencies from `requirements.txt`\n",
        "5. Load secrets from Colab (HF-token, geminiAPI, NGROK-USER, NGROK-PASS)\n",
        "6. Run `comfyui_setup.py`\n",
        "7. (Optional) List downloaded models\n"
      ]
    },
    {
      "cell_type": "code",
      "execution_count": null,
      "metadata": {},
      "outputs": [],
      "source": [
        "# Cell 1: (Optional) Mount Google Drive\n",
        "from google.colab import drive\n",
        "drive.mount('/content/drive')"
      ]
    },
    {
      "cell_type": "code",
      "execution_count": null,
      "metadata": {},
      "outputs": [],
      "source": [
        "# Cell 2: GPU/CPU check and warning\n",
        "try:\n",
        "    import torch\n",
        "    if torch.cuda.is_available():\n",
        "        print(\"✅ GPU detected. Enjoy fast compute!\")\n",
        "    else:\n",
        "        print(\"⚠️ No GPU detected. Running on CPU. If you need GPU, go to Runtime > Change runtime type and select GPU.\\n\"\n",
        "              \"You can keep working on CPU to prototype, then move to GPU on RunPod or GCP.\")\n",
        "except Exception as e:\n",
        "    print(\"ℹ️ Could not import torch yet. Continue to install dependencies, then re-run this cell if needed.\")"
      ]
    },
    {
      "cell_type": "code",
      "execution_count": null,
      "metadata": {},
      "outputs": [],
      "source": [
        "# Cell 3: Clone your repo\n",
        "!git clone https://github.com/SorretAI/aiqueue.git\n",
        "%cd aiqueue"
      ]
    },
    {
      "cell_type": "code",
      "execution_count": null,
      "metadata": {},
      "outputs": [],
      "source": [
        "# Cell 4: Install dependencies\n",
        "!pip install --upgrade pip\n",
        "!pip install -r requirements.txt"
      ]
    },
    {
      "cell_type": "code",
      "execution_count": null,
      "metadata": {},
      "outputs": [],
      "source": [
        "# Cell 5: Load secrets from Colab environment\n",
        "import os\n",
        "\n",
        "# Ensure you've added these in Colab's left sidebar > Secrets\n",
        "os.environ['HUGGING_FACE_HUB_TOKEN'] = os.environ.get('HF-token', '')\n",
        "os.environ['GEMINI_API_KEY'] = os.environ.get('geminiAPI', '')\n",
        "os.environ['NGROK_USERNAME'] = os.environ.get('NGROK-USER', '')\n",
        "os.environ['NGROK_PASSWORD'] = os.environ.get('NGROK-PASS', '')\n",
        "\n",
        "missing = [k for k,v in {\n",
        "    'HF-token': os.environ.get('HUGGING_FACE_HUB_TOKEN'),\n",
        "    'geminiAPI': os.environ.get('GEMINI_API_KEY'),\n",
        "    'NGROK-USER': os.environ.get('NGROK_USERNAME'),\n",
        "    'NGROK-PASS': os.environ.get('NGROK_PASSWORD')\n",
        "}.items() if not v]\n",
        "if missing:\n",
        "    print(f\"⚠️ Missing secrets: {missing}. Add them in the Colab Secrets sidebar if needed.\")\n",
        "else:\n",
        "    print(\"✅ All required secrets loaded from Colab environment variables.\")"
      ]
    },
    {
      "cell_type": "code",
      "execution_count": null,
      "metadata": {},
      "outputs": [],
      "source": [
        "# Cell 6: Run setup script (download models, etc.)\n",
        "!python comfyui_setup.py"
      ]
    },
    {
      "cell_type": "code",
      "execution_count": null,
      "metadata": {},
      "outputs": [],
      "source": [
        "# Cell 7: (Optional) List downloaded models for debug\n",
        "import os\n",
        "base = \"/workspace/ComfyUI/models\"\n",
        "if os.path.exists(base):\n",
        "    for root, dirs, files in os.walk(base):\n",
        "        for name in files:\n",
        "            print(os.path.join(root, name))\n",
        "else:\n",
        "    print(f\"Path not found: {base}. If you're running in Colab, this path may be different.\")"
      ]
    },
    {
      "cell_type": "markdown",
      "metadata": {},
      "source": [
        "## Next steps\n",
        "- Add your inference/training workflow cells below.\n",
        "- If you plan to run headless ComfyUI or agent workflows, document the steps here for your team.\n"
      ]
    }
  ],
  "metadata": {
    "colab": {
      "provenance": []
    },
    "kernelspec": {
      "display_name": "Python 3",
      "language": "python",
      "name": "python3"
    },
    "language_info": {
      "name": "python",
      "version": "3.x"
    }
  },
  "nbformat": 4,
  "nbformat_minor": 5
}